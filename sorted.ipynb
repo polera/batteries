{
 "metadata": {
  "name": "",
  "signature": "sha256:259b7f74a6fa32f127441da8dc0fa504a1475266811386a0baa071d5c0123ea2"
 },
 "nbformat": 3,
 "nbformat_minor": 0,
 "worksheets": [
  {
   "cells": [
    {
     "cell_type": "markdown",
     "metadata": {},
     "source": [
      "Batteries Included - 2014.09.08\n",
      "=================================\n",
      "\n",
      "list.sort() and sorted\n",
      "----------------------\n",
      "\n",
      "Python offers two built-in options for sorting lists.  The first is a built in method *sort* on the list type.  This is a destructive operation in that it modifies your original list.\n",
      "\n",
      "The second is a function *sorted* that returns a new sorted list from any iterable object.\n",
      "\n",
      "Another approach is to implement \"rich comparison\" methods in your classes (<, >, <=, >=, ==, !=)"
     ]
    },
    {
     "cell_type": "code",
     "collapsed": false,
     "input": [
      "names = [\"George\", \"Paul\", \"John\", \"Ringo\"]\n",
      "print(\"Pre-sort {0}\".format(names))\n",
      "names.sort()\n",
      "print(\"Post-sort {0}\".format(names))\n",
      "names.sort(reverse=True)\n",
      "print(\"Reverse sort {0}\".format(names))"
     ],
     "language": "python",
     "metadata": {},
     "outputs": []
    },
    {
     "cell_type": "code",
     "collapsed": false,
     "input": [
      "class Quarterback(object):\n",
      "    \n",
      "    def __init__(self, name=None, team=None, games_played=None, qb_rating=None, completions=None, attempts=None):\n",
      "        self.name = name\n",
      "        self.team = team\n",
      "        self.games_played = int(games_played)\n",
      "        self.qb_rating = float(qb_rating)\n",
      "        self.completions = int(completions)\n",
      "        self.attempts = int(attempts)\n",
      "    \n",
      "    @property\n",
      "    def average_attempts_per_game(self):\n",
      "        return self.attempts / self.games_played\n",
      "    \n",
      "    def __lt__(self, other):\n",
      "        return (self.qb_rating < other.qb_rating)\n",
      "\n",
      "    def __repr__(self):\n",
      "        return \"<Quarterback:{0}>\".format(self.name)\n",
      "    "
     ],
     "language": "python",
     "metadata": {},
     "outputs": []
    },
    {
     "cell_type": "code",
     "collapsed": false,
     "input": [
      "from csv import reader\n",
      "quarterbacks = []\n",
      "with open('qbdata.csv') as infile:\n",
      "    for (index, line) in enumerate(reader(infile)):\n",
      "        if index == 0:\n",
      "            continue # skip header row\n",
      "        if int(line[2]) < 2:\n",
      "            continue # minimum 2 games played\n",
      "        quarterbacks.append(Quarterback(name=line[0],\n",
      "                                        team=line[1],\n",
      "                                        games_played=line[2],\n",
      "                                        qb_rating=line[3],\n",
      "                                        completions=line[4],\n",
      "                                        attempts=line[5]))"
     ],
     "language": "python",
     "metadata": {},
     "outputs": []
    },
    {
     "cell_type": "code",
     "collapsed": false,
     "input": [
      "sorted_by_qbr = sorted(quarterbacks, key=lambda x: x.qb_rating, reverse=True)"
     ],
     "language": "python",
     "metadata": {},
     "outputs": []
    },
    {
     "cell_type": "code",
     "collapsed": false,
     "input": [
      "[\"{0} ({1}) {2} QBR.\".format(qb.name, qb.team, qb.qb_rating) for qb in sorted_by_qbr][:10]"
     ],
     "language": "python",
     "metadata": {},
     "outputs": []
    },
    {
     "cell_type": "code",
     "collapsed": false,
     "input": [
      "sorted_by_team = sorted(quarterbacks, key=lambda x: x.team)"
     ],
     "language": "python",
     "metadata": {},
     "outputs": []
    },
    {
     "cell_type": "code",
     "collapsed": false,
     "input": [
      "[\"{0} ({1}) {2} QBR.\".format(qb.name, qb.team, qb.qb_rating) for qb in sorted_by_team][:10]"
     ],
     "language": "python",
     "metadata": {},
     "outputs": []
    },
    {
     "cell_type": "markdown",
     "metadata": {},
     "source": [
      "Let's make use of our __lt__ method"
     ]
    },
    {
     "cell_type": "code",
     "collapsed": false,
     "input": [
      "len(quarterbacks)\n",
      "print quarterbacks[0]\n",
      "quarterbacks.sort()\n",
      "print quarterbacks[0]\n",
      "quarterbacks.sort(reverse=True)\n",
      "print quarterbacks[0]"
     ],
     "language": "python",
     "metadata": {},
     "outputs": []
    },
    {
     "cell_type": "code",
     "collapsed": false,
     "input": [],
     "language": "python",
     "metadata": {},
     "outputs": []
    }
   ],
   "metadata": {}
  }
 ]
}